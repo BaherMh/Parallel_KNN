{
 "cells": [
  {
   "cell_type": "code",
   "execution_count": 21,
   "id": "f8cb077e-7dfb-4937-8aac-9bddab2d2b0b",
   "metadata": {},
   "outputs": [
    {
     "name": "stdout",
     "output_type": "stream",
     "text": [
      "Non-Parallel KNN Accuracy: 0.8257\n",
      "Training Time: 0.0040 seconds\n",
      "Prediction Time: 15.7508 seconds\n",
      "Parallel KNN Accuracy: 0.8257\n",
      "Prediction Time (Parallel): 9.3204 seconds\n"
     ]
    }
   ],
   "source": [
    "import warnings\n",
    "from sklearn.datasets import make_classification\n",
    "from sklearn.model_selection import train_test_split\n",
    "from sklearn.neighbors import KNeighborsClassifier\n",
    "from sklearn.metrics import accuracy_score\n",
    "import time\n",
    "import numpy as np\n",
    "from joblib import Parallel, delayed\n",
    "\n",
    "# Suppress the specific warning\n",
    "warnings.filterwarnings(\"ignore\", category=FutureWarning)\n",
    "\n",
    "# Generate synthetic dataset\n",
    "X, y = make_classification(\n",
    "    n_samples=100000,      # Number of samples\n",
    "    n_features=20,        # Number of features\n",
    "    n_informative=5,      # Number of informative features\n",
    "    n_classes=5,          # Number of classes\n",
    "    n_clusters_per_class=1,\n",
    "    random_state=42\n",
    ")\n",
    "\n",
    "# Split the dataset into training and testing sets\n",
    "X_train, X_test, y_train, y_test = train_test_split(X, y, test_size=0.2, random_state=42)\n",
    "\n",
    "# Non-Parallel KNN\n",
    "knn = KNeighborsClassifier(n_neighbors=3)\n",
    "\n",
    "start_time = time.time()\n",
    "knn.fit(X_train, y_train)\n",
    "training_time = time.time() - start_time\n",
    "\n",
    "start_time = time.time()\n",
    "y_pred = knn.predict(X_test)\n",
    "prediction_time = time.time() - start_time\n",
    "\n",
    "accuracy = accuracy_score(y_test, y_pred)\n",
    "\n",
    "print(f\"Non-Parallel KNN Accuracy: {accuracy:.4f}\")\n",
    "print(f\"Training Time: {training_time:.4f} seconds\")\n",
    "print(f\"Prediction Time: {prediction_time:.4f} seconds\")\n",
    "\n",
    "# Parallel KNN\n",
    "def parallel_predict(knn, X_test_chunk):\n",
    "    return knn.predict(X_test_chunk)\n",
    "\n",
    "n_jobs = 4  # Number of jobs to run in parallel\n",
    "X_test_chunks = np.array_split(X_test, n_jobs)\n",
    "\n",
    "start_time = time.time()\n",
    "y_pred_chunks = Parallel(n_jobs=n_jobs)(delayed(parallel_predict)(knn, chunk) for chunk in X_test_chunks)\n",
    "y_pred = np.concatenate(y_pred_chunks)\n",
    "prediction_time_parallel = time.time() - start_time\n",
    "\n",
    "accuracy_parallel = accuracy_score(y_test, y_pred)\n",
    "\n",
    "print(f\"Parallel KNN Accuracy: {accuracy_parallel:.4f}\")\n",
    "print(f\"Prediction Time (Parallel): {prediction_time_parallel:.4f} seconds\")"
   ]
  },
  {
   "cell_type": "code",
   "execution_count": 23,
   "id": "b5598370-715c-473b-89ca-b7a31bd6ed74",
   "metadata": {},
   "outputs": [
    {
     "data": {
      "image/png": "[encoded data removed]",
      "text/plain": [
       "<Figure size 600x400 with 1 Axes>"
      ]
     },
     "metadata": {},
     "output_type": "display_data"
    }
   ],
   "source": [
    "import matplotlib.pyplot as plt\n",
    "\n",
    "# Given data\n",
    "non_parallel_time = prediction_time  # seconds\n",
    "parallel_time = prediction_time_parallel      # seconds\n",
    "\n",
    "# Labels and values for the bar chart\n",
    "labels = ['Non-Parallel', 'Parallel']\n",
    "times = [non_parallel_time, parallel_time]\n",
    "\n",
    "# Plotting\n",
    "plt.figure(figsize=(6, 4))\n",
    "plt.bar(labels, times, color=['blue', 'orange'])\n",
    "\n",
    "# Add labels and title\n",
    "plt.xlabel('Execution Type')\n",
    "plt.ylabel('Time (seconds)')\n",
    "plt.title('Non-Parallel vs Parallel')\n",
    "\n",
    "# Show the plot\n",
    "plt.show()"
   ]
  }
 ],
 "metadata": {
  "kernelspec": {
   "display_name": "Python 3 (ipykernel)",
   "language": "python",
   "name": "python3"
  },
  "language_info": {
   "codemirror_mode": {
    "name": "ipython",
    "version": 3
   },
   "file_extension": ".py",
   "mimetype": "text/x-python",
   "name": "python",
   "nbconvert_exporter": "python",
   "pygments_lexer": "ipython3",
   "version": "3.9.13"
  }
 },
 "nbformat": 4,
 "nbformat_minor": 5
}
